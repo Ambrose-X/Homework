{
 "cells": [
  {
   "cell_type": "markdown",
   "id": "201a5401",
   "metadata": {},
   "source": [
    "### Econ 570: Assignment 2 - Data Generating Processes"
   ]
  },
  {
   "cell_type": "markdown",
   "id": "afe7a53c",
   "metadata": {},
   "source": [
    "$0.$ $Install$ $Package$"
   ]
  },
  {
   "cell_type": "code",
   "execution_count": 1,
   "id": "9e4454da",
   "metadata": {},
   "outputs": [],
   "source": [
    "import warnings\n",
    "warnings.filterwarnings('ignore')\n",
    "import pandas as pd\n",
    "import numpy as np\n",
    "import matplotlib.pyplot as plt\n",
    "import statsmodels.api as sm\n",
    "from scipy import stats\n",
    "from matplotlib import style\n",
    "import seaborn as sns\n",
    "import graphviz as gr\n",
    "\n",
    "style.use(\"fivethirtyeight\")"
   ]
  },
  {
   "cell_type": "markdown",
   "id": "904b259a",
   "metadata": {},
   "source": [
    "### 1. Simulate a DGP where the outcome of interest depends on a randomly assigned treatment and some observed covariates. How does your estimate of the treatment effect parameter compare in the following two cases:\n",
    "\n",
    "a. You do not control for any covariates\n",
    "\n",
    "b. You control for all the covariates that affect the outcome"
   ]
  },
  {
   "cell_type": "markdown",
   "id": "c6f62e25",
   "metadata": {},
   "source": [
    "“The standard local polynomial estimator with covariates entering in an additive-separable, linear-in-parameters way and showed that the resulting covariate-adjusted RD estimator remains consistent for the standard RD treatment effect if the covariate adjustment is restricted to be equivalent above and below the cutoff” - Sebastian Calonico, Matias D. Cattaneo, Max H. Farrell, Rocío Titiunik; Regression Discontinuity Designs Using Covariates. The Review of Economics and Statistics 2019; 101 (3): 442–451. doi: https://doi.org/10.1162/rest_a_00760"
   ]
  },
  {
   "cell_type": "markdown",
   "id": "05482160",
   "metadata": {},
   "source": [
    "$1.0.1$ $Generate$ $Data$\n",
    "\n",
    "$y_i = \\beta_0 + \\kappa T + \\beta_1 X + u_i$\n",
    "\n",
    "$\\kappa$ can be obtained with the following formula\n",
    "\n",
    "$\\kappa = \\dfrac{Cov(Y_i, \\tilde{T_i})}{Var(\\tilde{T_i})}$\n",
    "\n",
    "where $\\tilde{T_i}$ is the residual from a regression of all other covariates \n",
    "$X_{1i} + ... + X_{ki}$ on $T_i$. "
   ]
  },
  {
   "cell_type": "code",
   "execution_count": 2,
   "id": "b715e40c",
   "metadata": {
    "scrolled": true
   },
   "outputs": [
    {
     "data": {
      "text/plain": [
       "(array([  7.,  25.,  76., 165., 231., 207., 156.,  93.,  29.,  11.]),\n",
       " array([-1.02323127, -0.12566191,  0.77190745,  1.66947681,  2.56704617,\n",
       "         3.46461552,  4.36218488,  5.25975424,  6.1573236 ,  7.05489296,\n",
       "         7.95246232]),\n",
       " <BarContainer object of 10 artists>)"
      ]
     },
     "execution_count": 2,
     "metadata": {},
     "output_type": "execute_result"
    },
    {
     "data": {
      "image/png": "[encoded data removed]",
      "text/plain": [
       "<Figure size 432x288 with 1 Axes>"
      ]
     },
     "metadata": {},
     "output_type": "display_data"
    }
   ],
   "source": [
    "k = 1 # ATE\n",
    "beta_0 = 1 # intercept\n",
    "beta_1 = 1 # covariates parameters\n",
    "n = 1000 # number of trails\n",
    "p = 0.5  # probability of each trial\n",
    "T = np.random.binomial(1, p, n)\n",
    "X = np.random.normal(2,1,n)\n",
    "e = np.random.normal(0,1,n)\n",
    "y = beta_0 + k*T + beta_1*X + e\n",
    "plt.hist(T)\n",
    "plt.hist(X)\n",
    "plt.hist(y)\n",
    "\n"
   ]
  },
  {
   "cell_type": "markdown",
   "id": "1ac7c3a3",
   "metadata": {},
   "source": [
    "$1.1.1$ $DAG$"
   ]
  },
  {
   "cell_type": "code",
   "execution_count": 3,
   "id": "14f0ee7b",
   "metadata": {},
   "outputs": [
    {
     "data": {
      "image/svg+xml": [
       "<?xml version=\"1.0\" encoding=\"UTF-8\" standalone=\"no\"?>\n",
       "<!DOCTYPE svg PUBLIC \"-//W3C//DTD SVG 1.1//EN\"\n",
       " \"http://www.w3.org/Graphics/SVG/1.1/DTD/svg11.dtd\">\n",
       "<!-- Generated by graphviz version 2.50.0 (20211204.2007)\n",
       " -->\n",
       "<!-- Pages: 1 -->\n",
       "<svg width=\"134pt\" height=\"116pt\"\n",
       " viewBox=\"0.00 0.00 134.00 116.00\" xmlns=\"http://www.w3.org/2000/svg\" xmlns:xlink=\"http://www.w3.org/1999/xlink\">\n",
       "<g id=\"graph0\" class=\"graph\" transform=\"scale(1 1) rotate(0) translate(4 112)\">\n",
       "<polygon fill=\"white\" stroke=\"transparent\" points=\"-4,4 -4,-112 130,-112 130,4 -4,4\"/>\n",
       "<!-- T -->\n",
       "<g id=\"node1\" class=\"node\">\n",
       "<title>T</title>\n",
       "<ellipse fill=\"none\" stroke=\"black\" cx=\"27\" cy=\"-90\" rx=\"27\" ry=\"18\"/>\n",
       "<text text-anchor=\"middle\" x=\"27\" y=\"-86.3\" font-family=\"Times,serif\" font-size=\"14.00\">T</text>\n",
       "</g>\n",
       "<!-- Y -->\n",
       "<g id=\"node2\" class=\"node\">\n",
       "<title>Y</title>\n",
       "<ellipse fill=\"none\" stroke=\"black\" cx=\"63\" cy=\"-18\" rx=\"27\" ry=\"18\"/>\n",
       "<text text-anchor=\"middle\" x=\"63\" y=\"-14.3\" font-family=\"Times,serif\" font-size=\"14.00\">Y</text>\n",
       "</g>\n",
       "<!-- T&#45;&gt;Y -->\n",
       "<g id=\"edge1\" class=\"edge\">\n",
       "<title>T&#45;&gt;Y</title>\n",
       "<path fill=\"none\" stroke=\"black\" d=\"M35.35,-72.76C39.71,-64.28 45.15,-53.71 50.04,-44.2\"/>\n",
       "<polygon fill=\"black\" stroke=\"black\" points=\"53.23,-45.64 54.7,-35.15 47.01,-42.44 53.23,-45.64\"/>\n",
       "</g>\n",
       "<!-- X -->\n",
       "<g id=\"node3\" class=\"node\">\n",
       "<title>X</title>\n",
       "<ellipse fill=\"none\" stroke=\"black\" cx=\"99\" cy=\"-90\" rx=\"27\" ry=\"18\"/>\n",
       "<text text-anchor=\"middle\" x=\"99\" y=\"-86.3\" font-family=\"Times,serif\" font-size=\"14.00\">X</text>\n",
       "</g>\n",
       "<!-- X&#45;&gt;Y -->\n",
       "<g id=\"edge2\" class=\"edge\">\n",
       "<title>X&#45;&gt;Y</title>\n",
       "<path fill=\"none\" stroke=\"black\" d=\"M90.65,-72.76C86.29,-64.28 80.85,-53.71 75.96,-44.2\"/>\n",
       "<polygon fill=\"black\" stroke=\"black\" points=\"78.99,-42.44 71.3,-35.15 72.77,-45.64 78.99,-42.44\"/>\n",
       "</g>\n",
       "</g>\n",
       "</svg>\n"
      ],
      "text/plain": [
       "<graphviz.graphs.Digraph at 0x7fd7dc8bd940>"
      ]
     },
     "execution_count": 3,
     "metadata": {},
     "output_type": "execute_result"
    }
   ],
   "source": [
    "g = gr.Digraph()\n",
    "g.edge(\"T\", \"Y\")\n",
    "g.edge(\"X\", \"Y\")\n",
    "g"
   ]
  },
  {
   "cell_type": "markdown",
   "id": "a442ab88",
   "metadata": {},
   "source": [
    "$1.2.1$ $Monte$ $Carlo$ $Method$"
   ]
  },
  {
   "cell_type": "markdown",
   "id": "84dce2dd",
   "metadata": {},
   "source": [
    "a. You do not control for any covariates"
   ]
  },
  {
   "cell_type": "code",
   "execution_count": 4,
   "id": "4ba7dd83",
   "metadata": {},
   "outputs": [],
   "source": [
    "class MC_Simulator():\n",
    "    \n",
    "    def __init__(self,n_rep):\n",
    "        \"\"\"\n",
    "        n_rep: number of MC replications\n",
    "        \"\"\"\n",
    "        self.n_rep = n_rep\n",
    "    def simulate_data(self, beta_0, k, n, sigma):\n",
    "        \"\"\"\n",
    "        beta_0: intercept\n",
    "        beta_1: covariates parameters\n",
    "        k: slope\n",
    "        n: sample size\n",
    "        p: probability of select for treatment\n",
    "        sigma: error variance\n",
    "        y = beta_0 + k*T + beta_1*X + e\n",
    "        \"\"\"\n",
    "        T = np.random.binomial(1, p, n)\n",
    "        e = np.random.normal(0, 1, n)\n",
    "        beta_1 = 1\n",
    "        X = np.random.normal(2,1,n)\n",
    "        y = np.random.normal(beta_0 + k*T + beta_1*X, 5).astype(int)\n",
    "        \n",
    "        return (y,T)\n",
    "    \n",
    "    def estimate_ols_params(self,y,T):\n",
    "        mod = sm.OLS(y,sm.add_constant(T))\n",
    "        res = mod.fit()\n",
    "        \n",
    "        return res.params\n",
    "    \n",
    "    def run_mc_simulation(self,beta_0,k,n,sigma):\n",
    "        beta_0_estimates = []\n",
    "        k_estimates = []\n",
    "        bias = []\n",
    "        RMSE = []\n",
    "        \n",
    "        for rep in range(self.n_rep):\n",
    "            y,T = self.simulate_data(beta_0,k,n,sigma)\n",
    "            beta_0_hat,k_hat = self.estimate_ols_params(y,T)\n",
    "            y_hat = beta_0_hat + k_hat * T\n",
    "            beta_0_estimates = beta_0_estimates + [beta_0_hat]\n",
    "            k_estimates = k_estimates + [k_hat]\n",
    "            bias = bias + [np.mean(y[T==1])-np.mean(y[T==0])]\n",
    "            RMSE = RMSE + [np.sqrt(np.mean((y-y_hat)**2))]\n",
    "        return beta_0_estimates, k_estimates, bias, RMSE\n",
    "    \n",
    "    def summarize_mc_simulation(self,beta_0,k,n,sigma):\n",
    "        beta_0_estimates, k_estimates, bias, RMSE= self.run_mc_simulation(beta_0,k,n,sigma)\n",
    "        print(f'Mean beta_0 = {np.mean(beta_0_estimates):.3f} \\n')\n",
    "        print(f'Mean k = {np.mean(k_estimates):.3f} \\n')\n",
    "        print(f'Mean bias = {np.mean(bias):.3f} \\n')\n",
    "        print(f'Mean RMSE = {np.mean(RMSE):.3f} \\n') \n",
    "            \n",
    "    def plot_parameter_estimates(self,beta_0,k,n,sigma,alpha):\n",
    "        beta_0_estimates, k_estimates, bias, RMSE= self.run_mc_simulation(beta_0,k,n,sigma)\n",
    "        \n",
    "        fig = plt.figure()\n",
    "        plt.hist(beta_0_estimates, label = 'Beta_0', alpha = alpha)\n",
    "        plt.hist(k_estimates, label = 'k', alpha = alpha)\n",
    "        plt.legend()"
   ]
  },
  {
   "cell_type": "code",
   "execution_count": 5,
   "id": "3120e27d",
   "metadata": {},
   "outputs": [
    {
     "name": "stdout",
     "output_type": "stream",
     "text": [
      "Mean beta_0 = 1.814 \n",
      "\n",
      "Mean k = 0.995 \n",
      "\n",
      "Mean bias = 0.995 \n",
      "\n",
      "Mean RMSE = 4.701 \n",
      "\n"
     ]
    }
   ],
   "source": [
    "mcSim = MC_Simulator(100)\n",
    "mcSim.summarize_mc_simulation(0,1,100,0.1)"
   ]
  },
  {
   "cell_type": "code",
   "execution_count": 6,
   "id": "7d7aef51",
   "metadata": {},
   "outputs": [
    {
     "name": "stdout",
     "output_type": "stream",
     "text": [
      "Mean beta_0 = 1.848 \n",
      "\n",
      "Mean k = 0.925 \n",
      "\n",
      "Mean bias = 0.925 \n",
      "\n",
      "Mean RMSE = 4.764 \n",
      "\n"
     ]
    }
   ],
   "source": [
    "mcSim = MC_Simulator(1000)\n",
    "mcSim.summarize_mc_simulation(0,1,1000,0.1)"
   ]
  },
  {
   "cell_type": "code",
   "execution_count": 7,
   "id": "70d5bfbc",
   "metadata": {
    "scrolled": true
   },
   "outputs": [
    {
     "data": {
      "image/png": "[encoded data removed]",
      "text/plain": [
       "<Figure size 432x288 with 1 Axes>"
      ]
     },
     "metadata": {},
     "output_type": "display_data"
    }
   ],
   "source": [
    "mcSim.plot_parameter_estimates(0,1,1000,0.1,.3)"
   ]
  },
  {
   "cell_type": "markdown",
   "id": "4e1c4d3a",
   "metadata": {},
   "source": [
    "b. You control for all the covariates that affect the outcome"
   ]
  },
  {
   "cell_type": "code",
   "execution_count": 8,
   "id": "ce059ae8",
   "metadata": {},
   "outputs": [],
   "source": [
    "class MC_Simulator():\n",
    "    \n",
    "    def __init__(self,n_rep):\n",
    "        \"\"\"\n",
    "        n_rep: number of MC replications\n",
    "        \"\"\"\n",
    "        self.n_rep = n_rep\n",
    "    def simulate_data(self, beta_0, k, n, sigma):\n",
    "        \"\"\"\n",
    "        beta_0: intercept\n",
    "        beta_1: covariates parameters\n",
    "        k: slope\n",
    "        n: sample size\n",
    "        p: probability of select for treatment\n",
    "        sigma: error variance\n",
    "        y = beta_0 + k*T + beta_1*X + e\n",
    "        \"\"\"\n",
    "        T = np.random.binomial(1, p, n)\n",
    "        e = np.random.normal(0, 1, n)\n",
    "        beta_1 = 1\n",
    "        X = np.random.normal(2,1,n)\n",
    "        y = np.random.normal(beta_0 + k*T + beta_1*X, 5).astype(int)\n",
    "        \n",
    "        return (y,T)\n",
    "    \n",
    "    def estimate_ols_params(self,y,T):\n",
    "        mod = sm.OLS(y,sm.add_constant(T),sm.add_constant(X))\n",
    "        res = mod.fit()\n",
    "        \n",
    "        return res.params\n",
    "    \n",
    "    def run_mc_simulation(self,beta_0,k,n,sigma):\n",
    "        beta_0_estimates = []\n",
    "        k_estimates = []\n",
    "        bias = []\n",
    "        RMSE = []\n",
    "        \n",
    "        for rep in range(self.n_rep):\n",
    "            y,T = self.simulate_data(beta_0,k,n,sigma)\n",
    "            beta_0_hat,k_hat = self.estimate_ols_params(y,T)\n",
    "            y_hat = beta_0_hat + k_hat * T\n",
    "            beta_0_estimates = beta_0_estimates + [beta_0_hat]\n",
    "            k_estimates = k_estimates + [k_hat]\n",
    "            bias = bias + [np.mean(y[T==1])-np.mean(y[T==0])]\n",
    "            RMSE = RMSE + [np.sqrt(np.mean((y-y_hat)**2))]\n",
    "        return beta_0_estimates, k_estimates, bias, RMSE\n",
    "    \n",
    "    def summarize_mc_simulation(self,beta_0,k,n,sigma):\n",
    "        beta_0_estimates, k_estimates, bias, RMSE= self.run_mc_simulation(beta_0,k,n,sigma)\n",
    "        print(f'Mean beta_0 = {np.mean(beta_0_estimates):.3f} \\n')\n",
    "        print(f'Mean k = {np.mean(k_estimates):.3f} \\n')\n",
    "        print(f'Mean bias = {np.mean(bias):.3f} \\n')\n",
    "        print(f'Mean RMSE = {np.mean(RMSE):.3f} \\n') \n",
    "            \n",
    "    def plot_parameter_estimates(self,beta_0,k,n,sigma,alpha):\n",
    "        beta_0_estimates, k_estimates, bias, RMSE= self.run_mc_simulation(beta_0,k,n,sigma)\n",
    "        \n",
    "        fig = plt.figure()\n",
    "        plt.hist(beta_0_estimates, label = 'Beta_0', alpha = alpha)\n",
    "        plt.hist(k_estimates, label = 'k', alpha = alpha)\n",
    "        plt.legend()"
   ]
  },
  {
   "cell_type": "code",
   "execution_count": 9,
   "id": "414deef5",
   "metadata": {},
   "outputs": [
    {
     "name": "stdout",
     "output_type": "stream",
     "text": [
      "Mean beta_0 = 1.850 \n",
      "\n",
      "Mean k = 0.879 \n",
      "\n",
      "Mean bias = 0.879 \n",
      "\n",
      "Mean RMSE = 4.664 \n",
      "\n"
     ]
    }
   ],
   "source": [
    "mcSim = MC_Simulator(100)\n",
    "mcSim.summarize_mc_simulation(0,1,100,0.1)"
   ]
  },
  {
   "cell_type": "code",
   "execution_count": 10,
   "id": "cc5f0871",
   "metadata": {},
   "outputs": [
    {
     "name": "stdout",
     "output_type": "stream",
     "text": [
      "Mean beta_0 = 1.821 \n",
      "\n",
      "Mean k = 0.919 \n",
      "\n",
      "Mean bias = 0.919 \n",
      "\n",
      "Mean RMSE = 4.687 \n",
      "\n"
     ]
    }
   ],
   "source": [
    "mcSim = MC_Simulator(1000)\n",
    "mcSim.summarize_mc_simulation(0,1,100,0.1)"
   ]
  },
  {
   "cell_type": "code",
   "execution_count": 11,
   "id": "57c3fdad",
   "metadata": {},
   "outputs": [
    {
     "data": {
      "image/png": "[encoded data removed]",
      "text/plain": [
       "<Figure size 432x288 with 1 Axes>"
      ]
     },
     "metadata": {},
     "output_type": "display_data"
    }
   ],
   "source": [
    "mcSim.plot_parameter_estimates(0,1,1000,0.1,.3)"
   ]
  },
  {
   "cell_type": "markdown",
   "id": "cf04a322",
   "metadata": {},
   "source": [
    "$1.3.1$ Example"
   ]
  },
  {
   "cell_type": "markdown",
   "id": "b2ea7e97",
   "metadata": {},
   "source": [
    "An engineer wants to study the level of corrosion on four types of iron beams. The engineer exposes each beam to a liquid treatment to accelerate corrosion, but cannot control the temperature of the liquid. Temperature is a covariate that should be considered in the model.And Therefore we should consider to use Temperature as a cov. in the regession."
   ]
  },
  {
   "cell_type": "markdown",
   "id": "4731af32",
   "metadata": {},
   "source": [
    "### 2. Simulate a DGP with a confounder (common cause)\n",
    "\n",
    "a. You fail to control for the confounder\n",
    "\n",
    "b. You do control for the confounder"
   ]
  },
  {
   "cell_type": "markdown",
   "id": "d2eabf41",
   "metadata": {},
   "source": [
    "\"Confounders are factors that confound the relationship between the trial drug and outcome. Some trials may permit adjunctive drugs during the trial or adjunctive treatments such as psychotherapy. These are confounders because results may be attributable to the adjuncts rather than to the drug being tested. As an example, trials of pain medications often ignore participants’ use of nondrug pain relievers such as splints, creams, massage, hot baths, and chiropractors’ manipulations. Response to these extra trial treatments may significantly confound the results of the trial.\" - Mary V. Seeman, ... Nigel H. Greig, in Handbook of Clinical Neurology, 2019"
   ]
  },
  {
   "cell_type": "markdown",
   "id": "a368f152",
   "metadata": {},
   "source": [
    "$2.0.1$ $Generate$ $Data$\n",
    "\n",
    "Using more general terms like  for the treatment and  for the confounders, here is want we want:\n",
    "\n",
    "$Y_i = \\beta_0 + \\kappa \\ T_i + \\pmb{\\beta}W_i + u_i$\n",
    "\n",
    "However, we don’t have data on $W$, so all we can run is:\n",
    "\n",
    "$Y_i = \\beta_0 + \\kappa\\ T_i + v_i$\n",
    "\n",
    "\n",
    "$v_i = \\pmb{\\beta}W_i + u_i$\n"
   ]
  },
  {
   "cell_type": "code",
   "execution_count": 12,
   "id": "9aa33a06",
   "metadata": {},
   "outputs": [
    {
     "data": {
      "text/plain": [
       "(array([  5.,  21.,  81., 170., 146., 229., 195.,  96.,  42.,  15.]),\n",
       " array([-3. , -0.2,  2.6,  5.4,  8.2, 11. , 13.8, 16.6, 19.4, 22.2, 25. ]),\n",
       " <BarContainer object of 10 artists>)"
      ]
     },
     "execution_count": 12,
     "metadata": {},
     "output_type": "execute_result"
    },
    {
     "data": {
      "image/png": "[encoded data removed]",
      "text/plain": [
       "<Figure size 432x288 with 1 Axes>"
      ]
     },
     "metadata": {},
     "output_type": "display_data"
    }
   ],
   "source": [
    "n = 1000 # number\n",
    "k = 1 # ATE\n",
    "beta_0 = 10 \n",
    "beta_1 = 1\n",
    "# generate covariate\n",
    "X = np.random.normal(2,1,n)\n",
    "# generate treatment\n",
    "T = np.random.binomial(1, 1/(1+X**2), n)\n",
    "# generate outcome\n",
    "y = np.random.normal(beta_0 + k*T + beta_1*X, 5).astype(int)\n",
    "\n",
    "plt.hist(T)\n",
    "plt.hist(X)\n",
    "plt.hist(y)"
   ]
  },
  {
   "cell_type": "markdown",
   "id": "bc2d771f",
   "metadata": {},
   "source": [
    "$2.1.1$ $DAG$"
   ]
  },
  {
   "cell_type": "code",
   "execution_count": 13,
   "id": "8941b1bb",
   "metadata": {},
   "outputs": [
    {
     "data": {
      "image/svg+xml": [
       "<?xml version=\"1.0\" encoding=\"UTF-8\" standalone=\"no\"?>\n",
       "<!DOCTYPE svg PUBLIC \"-//W3C//DTD SVG 1.1//EN\"\n",
       " \"http://www.w3.org/Graphics/SVG/1.1/DTD/svg11.dtd\">\n",
       "<!-- Generated by graphviz version 2.50.0 (20211204.2007)\n",
       " -->\n",
       "<!-- Pages: 1 -->\n",
       "<svg width=\"89pt\" height=\"188pt\"\n",
       " viewBox=\"0.00 0.00 89.00 188.00\" xmlns=\"http://www.w3.org/2000/svg\" xmlns:xlink=\"http://www.w3.org/1999/xlink\">\n",
       "<g id=\"graph0\" class=\"graph\" transform=\"scale(1 1) rotate(0) translate(4 184)\">\n",
       "<polygon fill=\"white\" stroke=\"transparent\" points=\"-4,4 -4,-184 85,-184 85,4 -4,4\"/>\n",
       "<!-- X -->\n",
       "<g id=\"node1\" class=\"node\">\n",
       "<title>X</title>\n",
       "<ellipse fill=\"none\" stroke=\"black\" cx=\"54\" cy=\"-162\" rx=\"27\" ry=\"18\"/>\n",
       "<text text-anchor=\"middle\" x=\"54\" y=\"-158.3\" font-family=\"Times,serif\" font-size=\"14.00\">X</text>\n",
       "</g>\n",
       "<!-- T -->\n",
       "<g id=\"node2\" class=\"node\">\n",
       "<title>T</title>\n",
       "<ellipse fill=\"none\" stroke=\"black\" cx=\"27\" cy=\"-90\" rx=\"27\" ry=\"18\"/>\n",
       "<text text-anchor=\"middle\" x=\"27\" y=\"-86.3\" font-family=\"Times,serif\" font-size=\"14.00\">T</text>\n",
       "</g>\n",
       "<!-- X&#45;&gt;T -->\n",
       "<g id=\"edge1\" class=\"edge\">\n",
       "<title>X&#45;&gt;T</title>\n",
       "<path fill=\"none\" stroke=\"black\" d=\"M47.6,-144.41C44.49,-136.34 40.67,-126.43 37.17,-117.35\"/>\n",
       "<polygon fill=\"black\" stroke=\"black\" points=\"40.4,-116.03 33.54,-107.96 33.87,-118.55 40.4,-116.03\"/>\n",
       "</g>\n",
       "<!-- Y -->\n",
       "<g id=\"node3\" class=\"node\">\n",
       "<title>Y</title>\n",
       "<ellipse fill=\"none\" stroke=\"black\" cx=\"54\" cy=\"-18\" rx=\"27\" ry=\"18\"/>\n",
       "<text text-anchor=\"middle\" x=\"54\" y=\"-14.3\" font-family=\"Times,serif\" font-size=\"14.00\">Y</text>\n",
       "</g>\n",
       "<!-- X&#45;&gt;Y -->\n",
       "<g id=\"edge3\" class=\"edge\">\n",
       "<title>X&#45;&gt;Y</title>\n",
       "<path fill=\"none\" stroke=\"black\" d=\"M57.65,-143.91C59.68,-133.57 61.98,-120.09 63,-108 64.34,-92.06 64.34,-87.94 63,-72 62.28,-63.5 60.93,-54.31 59.49,-46.01\"/>\n",
       "<polygon fill=\"black\" stroke=\"black\" points=\"62.91,-45.29 57.65,-36.09 56.03,-46.56 62.91,-45.29\"/>\n",
       "</g>\n",
       "<!-- T&#45;&gt;Y -->\n",
       "<g id=\"edge2\" class=\"edge\">\n",
       "<title>T&#45;&gt;Y</title>\n",
       "<path fill=\"none\" stroke=\"black\" d=\"M33.4,-72.41C36.51,-64.34 40.33,-54.43 43.83,-45.35\"/>\n",
       "<polygon fill=\"black\" stroke=\"black\" points=\"47.13,-46.55 47.46,-35.96 40.6,-44.03 47.13,-46.55\"/>\n",
       "</g>\n",
       "</g>\n",
       "</svg>\n"
      ],
      "text/plain": [
       "<graphviz.graphs.Digraph at 0x7fd7dd7063d0>"
      ]
     },
     "execution_count": 13,
     "metadata": {},
     "output_type": "execute_result"
    }
   ],
   "source": [
    "g = gr.Digraph()\n",
    "g.edge(\"X\", \"T\")\n",
    "g.edge(\"T\", \"Y\")\n",
    "g.edge(\"X\", \"Y\")\n",
    "g"
   ]
  },
  {
   "cell_type": "markdown",
   "id": "c548a0de",
   "metadata": {},
   "source": [
    "$2.2.1$ $Monte$ $Carlo$ $Method$"
   ]
  },
  {
   "cell_type": "markdown",
   "id": "ff543bb6",
   "metadata": {},
   "source": [
    "a. You fail to control for the confounder"
   ]
  },
  {
   "cell_type": "code",
   "execution_count": 14,
   "id": "40ba8b3f",
   "metadata": {},
   "outputs": [],
   "source": [
    "class MC_Simulator():\n",
    "    \n",
    "    def __init__(self,n_rep):\n",
    "        \"\"\"\n",
    "        n_rep: number of MC replications\n",
    "        \"\"\"\n",
    "        self.n_rep = n_rep\n",
    "    def simulate_data(self, beta_0, k, n, sigma):\n",
    "        \"\"\"\n",
    "        beta_0: intercept\n",
    "        beta_1: covariates parameters\n",
    "        k: slope\n",
    "        n: sample size\n",
    "        p: probability of select for treatment\n",
    "        sigma: error variance\n",
    "        y = beta_0 + k*T + beta_1*X + e\n",
    "        \"\"\"\n",
    "        T = np.random.binomial(1, p, n)\n",
    "        e = np.random.normal(0, 1, n)\n",
    "        beta_1 = 1\n",
    "        X = np.random.normal(2,1,n)\n",
    "        T = np.random.binomial(1, 1/(1+X**2), n)\n",
    "        y = np.random.normal(beta_0 + k*T + beta_1*X, 5).astype(int)\n",
    "        \n",
    "        return (y,T)\n",
    "    \n",
    "    def estimate_ols_params(self,y,T):\n",
    "        mod = sm.OLS(y,sm.add_constant(T))\n",
    "        res = mod.fit()\n",
    "        \n",
    "        return res.params\n",
    "    \n",
    "    def run_mc_simulation(self,beta_0,k,n,sigma):\n",
    "        beta_0_estimates = []\n",
    "        k_estimates = []\n",
    "        bias = []\n",
    "        RMSE = []\n",
    "        \n",
    "        for rep in range(self.n_rep):\n",
    "            y,T = self.simulate_data(beta_0,k,n,sigma)\n",
    "            beta_0_hat,k_hat = self.estimate_ols_params(y,T)\n",
    "            y_hat = beta_0_hat + k_hat * T\n",
    "            beta_0_estimates = beta_0_estimates + [beta_0_hat]\n",
    "            k_estimates = k_estimates + [k_hat]\n",
    "            bias = bias + [np.mean(y[T==1])-np.mean(y[T==0])]\n",
    "            RMSE = RMSE + [np.sqrt(np.mean((y-y_hat)**2))]\n",
    "        return beta_0_estimates, k_estimates, bias, RMSE\n",
    "    \n",
    "    def summarize_mc_simulation(self,beta_0,k,n,sigma):\n",
    "        beta_0_estimates, k_estimates, bias, RMSE= self.run_mc_simulation(beta_0,k,n,sigma)\n",
    "        print(f'Mean beta_0 = {np.mean(beta_0_estimates):.3f} \\n')\n",
    "        print(f'Mean k = {np.mean(k_estimates):.3f} \\n')\n",
    "        print(f'Mean bias = {np.mean(bias):.3f} \\n')\n",
    "        print(f'Mean RMSE = {np.mean(RMSE):.3f} \\n') \n",
    "            \n",
    "    def plot_parameter_estimates(self,beta_0,k,n,sigma,alpha):\n",
    "        beta_0_estimates, k_estimates, bias, RMSE= self.run_mc_simulation(beta_0,k,n,sigma)\n",
    "        \n",
    "        fig = plt.figure()\n",
    "        plt.hist(beta_0_estimates, label = 'Beta_0', alpha = alpha)\n",
    "        plt.hist(k_estimates, label = 'k', alpha = alpha)\n",
    "        plt.legend()"
   ]
  },
  {
   "cell_type": "code",
   "execution_count": 15,
   "id": "501c56e9",
   "metadata": {},
   "outputs": [
    {
     "name": "stdout",
     "output_type": "stream",
     "text": [
      "Mean beta_0 = 2.145 \n",
      "\n",
      "Mean k = -0.017 \n",
      "\n",
      "Mean bias = -0.017 \n",
      "\n",
      "Mean RMSE = 4.682 \n",
      "\n"
     ]
    }
   ],
   "source": [
    "mcSim = MC_Simulator(100)\n",
    "mcSim.summarize_mc_simulation(0,1,100,0.1)"
   ]
  },
  {
   "cell_type": "code",
   "execution_count": 16,
   "id": "0702f6ba",
   "metadata": {},
   "outputs": [
    {
     "name": "stdout",
     "output_type": "stream",
     "text": [
      "Mean beta_0 = 2.103 \n",
      "\n",
      "Mean k = -0.005 \n",
      "\n",
      "Mean bias = -0.005 \n",
      "\n",
      "Mean RMSE = 4.671 \n",
      "\n"
     ]
    }
   ],
   "source": [
    "mcSim = MC_Simulator(1000)\n",
    "mcSim.summarize_mc_simulation(0,1,100,0.1)"
   ]
  },
  {
   "cell_type": "code",
   "execution_count": 17,
   "id": "1d7cb180",
   "metadata": {},
   "outputs": [
    {
     "data": {
      "image/png": "[encoded data removed]",
      "text/plain": [
       "<Figure size 432x288 with 1 Axes>"
      ]
     },
     "metadata": {},
     "output_type": "display_data"
    }
   ],
   "source": [
    "mcSim.plot_parameter_estimates(0,1,1000,0.1,.3)"
   ]
  },
  {
   "cell_type": "markdown",
   "id": "a75e1aac",
   "metadata": {},
   "source": [
    "b. You do control for the confounder"
   ]
  },
  {
   "cell_type": "code",
   "execution_count": 18,
   "id": "e3999a02",
   "metadata": {},
   "outputs": [],
   "source": [
    "class MC_Simulator():\n",
    "    \n",
    "    def __init__(self,n_rep):\n",
    "        \"\"\"\n",
    "        n_rep: number of MC replications\n",
    "        \"\"\"\n",
    "        self.n_rep = n_rep\n",
    "    def simulate_data(self, beta_0, k, n, sigma):\n",
    "        \"\"\"\n",
    "        beta_0: intercept\n",
    "        beta_1: covariates parameters\n",
    "        k: slope\n",
    "        n: sample size\n",
    "        p: probability of select for treatment\n",
    "        sigma: error variance\n",
    "        y = beta_0 + k*T + beta_1*X + e\n",
    "        \"\"\"\n",
    "        T = np.random.binomial(1, p, n)\n",
    "        e = np.random.normal(0, 1, n)\n",
    "        beta_1 = 1\n",
    "        X = np.random.normal(2,1,n)\n",
    "        T = np.random.binomial(1, 1/(1+X**2), n)\n",
    "        y = np.random.normal(beta_0 + k*T + beta_1*X, 5).astype(int)\n",
    "        \n",
    "        return (y,T)\n",
    "    \n",
    "    def estimate_ols_params(self,y,T):\n",
    "        mod = sm.OLS(y,sm.add_constant(T),sm.add_constant(X))\n",
    "        res = mod.fit()\n",
    "        \n",
    "        return res.params\n",
    "    \n",
    "    def run_mc_simulation(self,beta_0,k,n,sigma):\n",
    "        beta_0_estimates = []\n",
    "        k_estimates = []\n",
    "        bias = []\n",
    "        RMSE = []\n",
    "        \n",
    "        for rep in range(self.n_rep):\n",
    "            y,T = self.simulate_data(beta_0,k,n,sigma)\n",
    "            beta_0_hat,k_hat = self.estimate_ols_params(y,T)\n",
    "            y_hat = beta_0_hat + k_hat * T\n",
    "            beta_0_estimates = beta_0_estimates + [beta_0_hat]\n",
    "            k_estimates = k_estimates + [k_hat]\n",
    "            bias = bias + [np.mean(y[T==1])-np.mean(y[T==0])]\n",
    "            RMSE = RMSE + [np.sqrt(np.mean((y-y_hat)**2))]\n",
    "        return beta_0_estimates, k_estimates, bias, RMSE\n",
    "    \n",
    "    def summarize_mc_simulation(self,beta_0,k,n,sigma):\n",
    "        beta_0_estimates, k_estimates, bias, RMSE= self.run_mc_simulation(beta_0,k,n,sigma)\n",
    "        print(f'Mean beta_0 = {np.mean(beta_0_estimates):.3f} \\n')\n",
    "        print(f'Mean k = {np.mean(k_estimates):.3f} \\n')\n",
    "        print(f'Mean bias = {np.mean(bias):.3f} \\n')\n",
    "        print(f'Mean RMSE = {np.mean(RMSE):.3f} \\n') \n",
    "            \n",
    "    def plot_parameter_estimates(self,beta_0,k,n,sigma,alpha):\n",
    "        beta_0_estimates, k_estimates, bias, RMSE= self.run_mc_simulation(beta_0,k,n,sigma)\n",
    "        \n",
    "        fig = plt.figure()\n",
    "        plt.hist(beta_0_estimates, label = 'Beta_0', alpha = alpha)\n",
    "        plt.hist(k_estimates, label = 'k', alpha = alpha)\n",
    "        plt.legend()"
   ]
  },
  {
   "cell_type": "code",
   "execution_count": 19,
   "id": "0b874ec1",
   "metadata": {},
   "outputs": [
    {
     "name": "stdout",
     "output_type": "stream",
     "text": [
      "Mean beta_0 = 2.059 \n",
      "\n",
      "Mean k = -1.774 \n",
      "\n",
      "Mean bias = -1.774 \n",
      "\n",
      "Mean RMSE = 4.675 \n",
      "\n"
     ]
    }
   ],
   "source": [
    "mcSim = MC_Simulator(100)\n",
    "mcSim.summarize_mc_simulation(0,-1,100,0.1)"
   ]
  },
  {
   "cell_type": "code",
   "execution_count": 20,
   "id": "5f1049c6",
   "metadata": {},
   "outputs": [
    {
     "name": "stdout",
     "output_type": "stream",
     "text": [
      "Mean beta_0 = 2.111 \n",
      "\n",
      "Mean k = -1.839 \n",
      "\n",
      "Mean bias = -1.839 \n",
      "\n",
      "Mean RMSE = 4.663 \n",
      "\n"
     ]
    }
   ],
   "source": [
    "mcSim = MC_Simulator(10000)\n",
    "mcSim.summarize_mc_simulation(0,-1,100,0.1)"
   ]
  },
  {
   "cell_type": "code",
   "execution_count": 21,
   "id": "0dbb1a5b",
   "metadata": {},
   "outputs": [
    {
     "data": {
      "image/png": "[encoded data removed]",
      "text/plain": [
       "<Figure size 432x288 with 1 Axes>"
      ]
     },
     "metadata": {},
     "output_type": "display_data"
    }
   ],
   "source": [
    "mcSim.plot_parameter_estimates(0,1,1000,0.1,.3)"
   ]
  },
  {
   "cell_type": "markdown",
   "id": "c4317b4c",
   "metadata": {},
   "source": [
    "$2.3.1$ Example"
   ]
  },
  {
   "cell_type": "markdown",
   "id": "b7ad11c2",
   "metadata": {},
   "source": [
    "Confounders are factors other than the exposure/intervention that may affect the outcome of interest and that can be related to exposure/intervention. For example, in a study of the effects of caffeine on pregnancy outcomes, smoking might be a confounder if women who drank coffee were more likely to be smokers than were women who did not drink coffee. To see whether confounding might be an issue, readers should look for data on the baseline characteristics of the drug and comparison groups and check that they are similarly distributed between the treatment and the comparison groups, which will often be the case in at least moderately sized randomized, controlled trials."
   ]
  },
  {
   "cell_type": "markdown",
   "id": "c1464fe4",
   "metadata": {},
   "source": [
    "### 3. Simulate a DGP with selection bias into the treatment (variable in between the path from the treatment to the outcome)\n",
    "\n",
    "a. You control for the variable in between the path from cause to effect\n",
    "\n",
    "b. You do not control for the variable in between the path from cause to effect"
   ]
  },
  {
   "cell_type": "markdown",
   "id": "19aceb10",
   "metadata": {},
   "source": [
    "\"Selection bias occurs when the study population is not representative of the target population so that the measure of risks/benefits does not accurately represent the target population to which conclusions are being extended. Selection bias could occur because of an error in the procedure used to select subjects or if there are other reasons that could explain why some participants would want to participate in the study and not others, or if some participants are more likely to be selected than others\"-Sabrina Nour, Gilles Plourde, in Pharmacoepidemiology and Pharmacovigilance, 2019"
   ]
  },
  {
   "cell_type": "markdown",
   "id": "5336448d",
   "metadata": {},
   "source": [
    "$3.0.1$ $Generate$ $Data$"
   ]
  },
  {
   "cell_type": "code",
   "execution_count": 22,
   "id": "fe94a655",
   "metadata": {},
   "outputs": [
    {
     "data": {
      "text/plain": [
       "(array([ 12.,   0., 362.,   0., 318.,   0., 226.,   0.,  78.,   4.]),\n",
       " array([-1. , -0.5,  0. ,  0.5,  1. ,  1.5,  2. ,  2.5,  3. ,  3.5,  4. ]),\n",
       " <BarContainer object of 10 artists>)"
      ]
     },
     "execution_count": 22,
     "metadata": {},
     "output_type": "execute_result"
    },
    {
     "data": {
      "image/png": "[encoded data removed]",
      "text/plain": [
       "<Figure size 432x288 with 1 Axes>"
      ]
     },
     "metadata": {},
     "output_type": "display_data"
    }
   ],
   "source": [
    "n = 1000 # number\n",
    "k = 1 # ATE\n",
    "beta_0 = 1 \n",
    "T = np.random.binomial(1, 0.5, n) # generate treatment\n",
    "y = np.random.normal(beta_0 + k*T, 1).astype(int) # generate outcome\n",
    "X = np.random.normal(np.mean(T)*np.mean(y),1,n) # generate covariate\n",
    "plt.hist(T)\n",
    "plt.hist(X)\n",
    "plt.hist(y)"
   ]
  },
  {
   "cell_type": "markdown",
   "id": "4ad95b67",
   "metadata": {},
   "source": [
    "$3.1.1$ $DAG$"
   ]
  },
  {
   "cell_type": "code",
   "execution_count": 23,
   "id": "daa5144e",
   "metadata": {},
   "outputs": [
    {
     "data": {
      "image/svg+xml": [
       "<?xml version=\"1.0\" encoding=\"UTF-8\" standalone=\"no\"?>\n",
       "<!DOCTYPE svg PUBLIC \"-//W3C//DTD SVG 1.1//EN\"\n",
       " \"http://www.w3.org/Graphics/SVG/1.1/DTD/svg11.dtd\">\n",
       "<!-- Generated by graphviz version 2.50.0 (20211204.2007)\n",
       " -->\n",
       "<!-- Pages: 1 -->\n",
       "<svg width=\"90pt\" height=\"188pt\"\n",
       " viewBox=\"0.00 0.00 90.00 188.00\" xmlns=\"http://www.w3.org/2000/svg\" xmlns:xlink=\"http://www.w3.org/1999/xlink\">\n",
       "<g id=\"graph0\" class=\"graph\" transform=\"scale(1 1) rotate(0) translate(4 184)\">\n",
       "<polygon fill=\"white\" stroke=\"transparent\" points=\"-4,4 -4,-184 86,-184 86,4 -4,4\"/>\n",
       "<!-- X -->\n",
       "<g id=\"node1\" class=\"node\">\n",
       "<title>X</title>\n",
       "<ellipse fill=\"none\" stroke=\"black\" cx=\"27\" cy=\"-162\" rx=\"27\" ry=\"18\"/>\n",
       "<text text-anchor=\"middle\" x=\"27\" y=\"-158.3\" font-family=\"Times,serif\" font-size=\"14.00\">X</text>\n",
       "</g>\n",
       "<!-- T -->\n",
       "<g id=\"node2\" class=\"node\">\n",
       "<title>T</title>\n",
       "<ellipse fill=\"none\" stroke=\"black\" cx=\"27\" cy=\"-18\" rx=\"27\" ry=\"18\"/>\n",
       "<text text-anchor=\"middle\" x=\"27\" y=\"-14.3\" font-family=\"Times,serif\" font-size=\"14.00\">T</text>\n",
       "</g>\n",
       "<!-- X&#45;&gt;T -->\n",
       "<g id=\"edge1\" class=\"edge\">\n",
       "<title>X&#45;&gt;T</title>\n",
       "<path fill=\"none\" stroke=\"black\" d=\"M23.75,-143.89C21.95,-133.54 19.91,-120.06 19,-108 17.8,-92.04 17.8,-87.96 19,-72 19.64,-63.52 20.84,-54.34 22.12,-46.04\"/>\n",
       "<polygon fill=\"black\" stroke=\"black\" points=\"25.58,-46.55 23.75,-36.11 18.68,-45.41 25.58,-46.55\"/>\n",
       "</g>\n",
       "<!-- Y -->\n",
       "<g id=\"node3\" class=\"node\">\n",
       "<title>Y</title>\n",
       "<ellipse fill=\"none\" stroke=\"black\" cx=\"55\" cy=\"-90\" rx=\"27\" ry=\"18\"/>\n",
       "<text text-anchor=\"middle\" x=\"55\" y=\"-86.3\" font-family=\"Times,serif\" font-size=\"14.00\">Y</text>\n",
       "</g>\n",
       "<!-- X&#45;&gt;Y -->\n",
       "<g id=\"edge3\" class=\"edge\">\n",
       "<title>X&#45;&gt;Y</title>\n",
       "<path fill=\"none\" stroke=\"black\" d=\"M33.64,-144.41C36.91,-136.22 40.94,-126.14 44.62,-116.95\"/>\n",
       "<polygon fill=\"black\" stroke=\"black\" points=\"47.95,-118.05 48.41,-107.47 41.45,-115.45 47.95,-118.05\"/>\n",
       "</g>\n",
       "<!-- Y&#45;&gt;T -->\n",
       "<g id=\"edge2\" class=\"edge\">\n",
       "<title>Y&#45;&gt;T</title>\n",
       "<path fill=\"none\" stroke=\"black\" d=\"M48.36,-72.41C45.09,-64.22 41.06,-54.14 37.38,-44.95\"/>\n",
       "<polygon fill=\"black\" stroke=\"black\" points=\"40.55,-43.45 33.59,-35.47 34.05,-46.05 40.55,-43.45\"/>\n",
       "</g>\n",
       "</g>\n",
       "</svg>\n"
      ],
      "text/plain": [
       "<graphviz.graphs.Digraph at 0x7fd7dd9b45e0>"
      ]
     },
     "execution_count": 23,
     "metadata": {},
     "output_type": "execute_result"
    }
   ],
   "source": [
    "g = gr.Digraph()\n",
    "g.edge(\"X\", \"T\")\n",
    "g.edge(\"Y\", \"T\")\n",
    "g.edge(\"X\", \"Y\")\n",
    "g"
   ]
  },
  {
   "cell_type": "markdown",
   "id": "16318d8f",
   "metadata": {},
   "source": [
    "$3.2.1$ $Monte$ $Carlo$ $Method$"
   ]
  },
  {
   "cell_type": "markdown",
   "id": "6f36927f",
   "metadata": {},
   "source": [
    "a. You control for the variable in between the path from cause to effect"
   ]
  },
  {
   "cell_type": "code",
   "execution_count": 24,
   "id": "e11505f2",
   "metadata": {},
   "outputs": [],
   "source": [
    "class MC_Simulator():\n",
    "    \n",
    "    def __init__(self,n_rep):\n",
    "        \"\"\"\n",
    "        n_rep: number of MC replications\n",
    "        \"\"\"\n",
    "        self.n_rep = n_rep\n",
    "    def simulate_data(self, beta_0, k, n, sigma):\n",
    "        \"\"\"\n",
    "        beta_0: intercept\n",
    "        beta_1: covariates parameters\n",
    "        k: slope\n",
    "        n: sample size\n",
    "        p: probability of select for treatment\n",
    "        sigma: error variance\n",
    "        y = beta_0 + k*T + beta_1*X + e\n",
    "        \"\"\"\n",
    "        T = np.random.binomial(1, p, n)\n",
    "        e = np.random.normal(0, 1, n)\n",
    "        beta_1 = 1\n",
    "        T = np.random.binomial(1, 0.5, n) \n",
    "        y = np.random.normal(beta_0 + k*T, 1).astype(int) \n",
    "        X = np.random.normal(T*y,1,n) \n",
    "        \n",
    "        return (y,T)\n",
    "    \n",
    "    def estimate_ols_params(self,y,T):\n",
    "        mod = sm.OLS(y,sm.add_constant(T))\n",
    "        res = mod.fit()\n",
    "        \n",
    "        return res.params\n",
    "    \n",
    "    def run_mc_simulation(self,beta_0,k,n,sigma):\n",
    "        beta_0_estimates = []\n",
    "        k_estimates = []\n",
    "        bias = []\n",
    "        RMSE = []\n",
    "        \n",
    "        for rep in range(self.n_rep):\n",
    "            y,T = self.simulate_data(beta_0,k,n,sigma)\n",
    "            beta_0_hat,k_hat = self.estimate_ols_params(y,T)\n",
    "            y_hat = beta_0_hat + k_hat * T\n",
    "            beta_0_estimates = beta_0_estimates + [beta_0_hat]\n",
    "            k_estimates = k_estimates + [k_hat]\n",
    "            bias = bias + [np.mean(y[T==1])-np.mean(y[T==0])]\n",
    "            RMSE = RMSE + [np.sqrt(np.mean((y-y_hat)**2))]\n",
    "        return beta_0_estimates, k_estimates, bias, RMSE\n",
    "    \n",
    "    def summarize_mc_simulation(self,beta_0,k,n,sigma):\n",
    "        beta_0_estimates, k_estimates, bias, RMSE= self.run_mc_simulation(beta_0,k,n,sigma)\n",
    "        print(f'Mean beta_0 = {np.mean(beta_0_estimates):.3f} \\n')\n",
    "        print(f'Mean k = {np.mean(k_estimates):.3f} \\n')\n",
    "        print(f'Mean bias = {np.mean(bias):.3f} \\n')\n",
    "        print(f'Mean RMSE = {np.mean(RMSE):.3f} \\n') \n",
    "            \n",
    "    def plot_parameter_estimates(self,beta_0,k,n,sigma,alpha):\n",
    "        beta_0_estimates, k_estimates, bias, RMSE= self.run_mc_simulation(beta_0,k,n,sigma)\n",
    "        \n",
    "        fig = plt.figure()\n",
    "        plt.hist(beta_0_estimates, label = 'Beta_0', alpha = alpha)\n",
    "        plt.hist(k_estimates, label = 'k', alpha = alpha)\n",
    "        plt.legend()"
   ]
  },
  {
   "cell_type": "code",
   "execution_count": 25,
   "id": "e57c0e22",
   "metadata": {},
   "outputs": [
    {
     "name": "stdout",
     "output_type": "stream",
     "text": [
      "Mean beta_0 = -0.011 \n",
      "\n",
      "Mean k = 0.667 \n",
      "\n",
      "Mean bias = 0.667 \n",
      "\n",
      "Mean RMSE = 0.751 \n",
      "\n"
     ]
    }
   ],
   "source": [
    "mcSim = MC_Simulator(100)\n",
    "mcSim.summarize_mc_simulation(0,1,100,0.1)"
   ]
  },
  {
   "cell_type": "code",
   "execution_count": 26,
   "id": "bdaec42d",
   "metadata": {},
   "outputs": [
    {
     "name": "stdout",
     "output_type": "stream",
     "text": [
      "Mean beta_0 = -0.002 \n",
      "\n",
      "Mean k = 0.661 \n",
      "\n",
      "Mean bias = 0.661 \n",
      "\n",
      "Mean RMSE = 0.752 \n",
      "\n"
     ]
    }
   ],
   "source": [
    "mcSim = MC_Simulator(1000)\n",
    "mcSim.summarize_mc_simulation(0,1,100,0.1)"
   ]
  },
  {
   "cell_type": "markdown",
   "id": "95270297",
   "metadata": {},
   "source": [
    "b. You do not control for the variable in between the path from cause to effect"
   ]
  },
  {
   "cell_type": "code",
   "execution_count": 27,
   "id": "ebbdd6bd",
   "metadata": {},
   "outputs": [],
   "source": [
    "class MC_Simulator():\n",
    "    \n",
    "    def __init__(self,n_rep):\n",
    "        \"\"\"\n",
    "        n_rep: number of MC replications\n",
    "        \"\"\"\n",
    "        self.n_rep = n_rep\n",
    "    def simulate_data(self, beta_0, k, n, sigma):\n",
    "        \"\"\"\n",
    "        beta_0: intercept\n",
    "        beta_1: covariates parameters\n",
    "        k: slope\n",
    "        n: sample size\n",
    "        p: probability of select for treatment\n",
    "        sigma: error variance\n",
    "        y = beta_0 + k*T + beta_1*X + e\n",
    "        \"\"\"\n",
    "        T = np.random.binomial(1, p, n)\n",
    "        e = np.random.normal(0, 1, n)\n",
    "        beta_1 = 1\n",
    "        T = np.random.binomial(1, 0.5, n) \n",
    "        y = np.random.normal(beta_0 + k*T, 1).astype(int) \n",
    "        X = np.random.normal(beta_1*T*y,1,n) \n",
    "        \n",
    "        return (y,T)\n",
    "    \n",
    "    def estimate_ols_params(self,y,T):\n",
    "        mod = sm.OLS(y,sm.add_constant(T),sm.add_constant(X))\n",
    "        res = mod.fit()\n",
    "        \n",
    "        return res.params\n",
    "    \n",
    "    def run_mc_simulation(self,beta_0,k,n,sigma):\n",
    "        beta_0_estimates = []\n",
    "        k_estimates = []\n",
    "        bias = []\n",
    "        RMSE = []\n",
    "        \n",
    "        for rep in range(self.n_rep):\n",
    "            y,T = self.simulate_data(beta_0,k,n,sigma)\n",
    "            beta_0_hat,k_hat = self.estimate_ols_params(y,T)\n",
    "            y_hat = beta_0_hat + k_hat * T\n",
    "            beta_0_estimates = beta_0_estimates + [beta_0_hat]\n",
    "            k_estimates = k_estimates + [k_hat]\n",
    "            bias = bias + [np.mean(y[T==1])-np.mean(y[T==0])]\n",
    "            RMSE = RMSE + [np.sqrt(np.mean((y-y_hat)**2))]\n",
    "        return beta_0_estimates, k_estimates, bias, RMSE\n",
    "    \n",
    "    def summarize_mc_simulation(self,beta_0,k,n,sigma):\n",
    "        beta_0_estimates, k_estimates, bias, RMSE= self.run_mc_simulation(beta_0,k,n,sigma)\n",
    "        print(f'Mean beta_0 = {np.mean(beta_0_estimates):.3f} \\n')\n",
    "        print(f'Mean k = {np.mean(k_estimates):.3f} \\n')\n",
    "        print(f'Mean bias = {np.mean(bias):.3f} \\n')\n",
    "        print(f'Mean RMSE = {np.mean(RMSE):.3f} \\n') \n",
    "            \n",
    "    def plot_parameter_estimates(self,beta_0,k,n,sigma,alpha):\n",
    "        beta_0_estimates, k_estimates, bias, RMSE= self.run_mc_simulation(beta_0,k,n,sigma)\n",
    "        \n",
    "        fig = plt.figure()\n",
    "        plt.hist(beta_0_estimates, label = 'Beta_0', alpha = alpha)\n",
    "        plt.hist(k_estimates, label = 'k', alpha = alpha)\n",
    "        plt.legend()"
   ]
  },
  {
   "cell_type": "code",
   "execution_count": 28,
   "id": "5e80b1cf",
   "metadata": {
    "scrolled": false
   },
   "outputs": [
    {
     "name": "stdout",
     "output_type": "stream",
     "text": [
      "Mean beta_0 = -0.001 \n",
      "\n",
      "Mean k = 0.658 \n",
      "\n",
      "Mean bias = 0.658 \n",
      "\n",
      "Mean RMSE = 0.743 \n",
      "\n"
     ]
    }
   ],
   "source": [
    "mcSim = MC_Simulator(100)\n",
    "mcSim.summarize_mc_simulation(0,1,100,0.1)"
   ]
  },
  {
   "cell_type": "code",
   "execution_count": 29,
   "id": "8d6954c9",
   "metadata": {
    "scrolled": false
   },
   "outputs": [
    {
     "name": "stdout",
     "output_type": "stream",
     "text": [
      "Mean beta_0 = 0.003 \n",
      "\n",
      "Mean k = 0.650 \n",
      "\n",
      "Mean bias = 0.650 \n",
      "\n",
      "Mean RMSE = 0.751 \n",
      "\n"
     ]
    }
   ],
   "source": [
    "mcSim = MC_Simulator(1000)\n",
    "mcSim.summarize_mc_simulation(0,1,100,0.1)"
   ]
  },
  {
   "cell_type": "code",
   "execution_count": 30,
   "id": "eb2fcf10",
   "metadata": {
    "scrolled": true
   },
   "outputs": [
    {
     "data": {
      "image/png": "[encoded data removed]",
      "text/plain": [
       "<Figure size 432x288 with 1 Axes>"
      ]
     },
     "metadata": {},
     "output_type": "display_data"
    }
   ],
   "source": [
    "mcSim.plot_parameter_estimates(0,1,1000,0.1,.3)"
   ]
  },
  {
   "cell_type": "markdown",
   "id": "b814e3bd",
   "metadata": {},
   "source": [
    "$3.3.1$ Example"
   ]
  },
  {
   "cell_type": "markdown",
   "id": "60e047de",
   "metadata": {},
   "source": [
    "An example is the effect of HRT on coronary heart disease (CHD) in women. Several studies showed that HRT reduced coronary heart disease (CHD), but subsequent RCTs showed that HRT might increase the risk of CHD disease. The Women in the observational studies on HRT were more health conscious, more physically active, and had higher socioeconomic status than those not on HRT. This self-selection of women (selection bias) led to confounding and a “healthy-user bias”."
   ]
  }
 ],
 "metadata": {
  "kernelspec": {
   "display_name": "Python 3 (ipykernel)",
   "language": "python",
   "name": "python3"
  },
  "language_info": {
   "codemirror_mode": {
    "name": "ipython",
    "version": 3
   },
   "file_extension": ".py",
   "mimetype": "text/x-python",
   "name": "python",
   "nbconvert_exporter": "python",
   "pygments_lexer": "ipython3",
   "version": "3.9.7"
  }
 },
 "nbformat": 4,
 "nbformat_minor": 5
}
